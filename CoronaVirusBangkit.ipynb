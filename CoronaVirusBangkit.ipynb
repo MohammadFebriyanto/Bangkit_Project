{
 "cells": [
  {
   "cell_type": "markdown",
   "metadata": {},
   "source": [
    "# Import the libraries"
   ]
  },
  {
   "cell_type": "code",
   "execution_count": 1,
   "metadata": {},
   "outputs": [],
   "source": [
    "import numpy as np\n",
    "import pandas as pd \n",
    "import seaborn as sns\n",
    "import matplotlib.pyplot as plt\n",
    "\n",
    "import math"
   ]
  },
  {
   "cell_type": "code",
   "execution_count": 2,
   "metadata": {},
   "outputs": [],
   "source": [
    "from tensorflow.keras.models import Sequential\n",
    "from tensorflow.keras.layers import LSTM,Dense\n",
    "from tensorflow.keras.layers import Dropout\n",
    "from sklearn.preprocessing import MinMaxScaler\n",
    "from sklearn.neural_network import MLPRegressor\n",
    "from tensorflow.keras.preprocessing.sequence import TimeseriesGenerator"
   ]
  },
  {
   "cell_type": "code",
   "execution_count": 3,
   "metadata": {},
   "outputs": [],
   "source": [
    "import matplotlib.dates as mdates\n",
    "import plotly.express as px\n",
    "from datetime import date, timedelta\n",
    "from sklearn.cluster import KMeans"
   ]
  },
  {
   "cell_type": "markdown",
   "metadata": {},
   "source": [
    "# Data Preparation"
   ]
  },
  {
   "cell_type": "code",
   "execution_count": 36,
   "metadata": {},
   "outputs": [],
   "source": [
    "df_patient = pd.read_csv('DATA/patient.csv')\n",
    "df_route = pd.read_csv('DATA/route.csv')\n",
    "df_time = pd.read_csv('DATA/time.csv')"
   ]
  },
  {
   "cell_type": "code",
   "execution_count": 5,
   "metadata": {},
   "outputs": [
    {
     "data": {
      "text/html": [
       "<div>\n",
       "<style scoped>\n",
       "    .dataframe tbody tr th:only-of-type {\n",
       "        vertical-align: middle;\n",
       "    }\n",
       "\n",
       "    .dataframe tbody tr th {\n",
       "        vertical-align: top;\n",
       "    }\n",
       "\n",
       "    .dataframe thead th {\n",
       "        text-align: right;\n",
       "    }\n",
       "</style>\n",
       "<table border=\"1\" class=\"dataframe\">\n",
       "  <thead>\n",
       "    <tr style=\"text-align: right;\">\n",
       "      <th></th>\n",
       "      <th>patient_id</th>\n",
       "      <th>sex</th>\n",
       "      <th>birth_year</th>\n",
       "      <th>country</th>\n",
       "      <th>region</th>\n",
       "      <th>disease</th>\n",
       "      <th>group</th>\n",
       "      <th>infection_reason</th>\n",
       "      <th>infection_order</th>\n",
       "      <th>infected_by</th>\n",
       "      <th>contact_number</th>\n",
       "      <th>confirmed_date</th>\n",
       "      <th>released_date</th>\n",
       "      <th>deceased_date</th>\n",
       "      <th>state</th>\n",
       "    </tr>\n",
       "  </thead>\n",
       "  <tbody>\n",
       "    <tr>\n",
       "      <td>0</td>\n",
       "      <td>1</td>\n",
       "      <td>female</td>\n",
       "      <td>1984.0</td>\n",
       "      <td>China</td>\n",
       "      <td>filtered at airport</td>\n",
       "      <td>NaN</td>\n",
       "      <td>NaN</td>\n",
       "      <td>visit to Wuhan</td>\n",
       "      <td>1.0</td>\n",
       "      <td>NaN</td>\n",
       "      <td>45.0</td>\n",
       "      <td>2020-01-20</td>\n",
       "      <td>2020-02-06</td>\n",
       "      <td>NaN</td>\n",
       "      <td>released</td>\n",
       "    </tr>\n",
       "    <tr>\n",
       "      <td>1</td>\n",
       "      <td>2</td>\n",
       "      <td>male</td>\n",
       "      <td>1964.0</td>\n",
       "      <td>Korea</td>\n",
       "      <td>filtered at airport</td>\n",
       "      <td>NaN</td>\n",
       "      <td>NaN</td>\n",
       "      <td>visit to Wuhan</td>\n",
       "      <td>1.0</td>\n",
       "      <td>NaN</td>\n",
       "      <td>75.0</td>\n",
       "      <td>2020-01-24</td>\n",
       "      <td>2020-02-05</td>\n",
       "      <td>NaN</td>\n",
       "      <td>released</td>\n",
       "    </tr>\n",
       "    <tr>\n",
       "      <td>2</td>\n",
       "      <td>3</td>\n",
       "      <td>male</td>\n",
       "      <td>1966.0</td>\n",
       "      <td>Korea</td>\n",
       "      <td>capital area</td>\n",
       "      <td>NaN</td>\n",
       "      <td>NaN</td>\n",
       "      <td>visit to Wuhan</td>\n",
       "      <td>1.0</td>\n",
       "      <td>NaN</td>\n",
       "      <td>16.0</td>\n",
       "      <td>2020-01-26</td>\n",
       "      <td>2020-02-12</td>\n",
       "      <td>NaN</td>\n",
       "      <td>released</td>\n",
       "    </tr>\n",
       "    <tr>\n",
       "      <td>3</td>\n",
       "      <td>4</td>\n",
       "      <td>male</td>\n",
       "      <td>1964.0</td>\n",
       "      <td>Korea</td>\n",
       "      <td>capital area</td>\n",
       "      <td>NaN</td>\n",
       "      <td>NaN</td>\n",
       "      <td>visit to Wuhan</td>\n",
       "      <td>1.0</td>\n",
       "      <td>NaN</td>\n",
       "      <td>95.0</td>\n",
       "      <td>2020-01-27</td>\n",
       "      <td>2020-02-09</td>\n",
       "      <td>NaN</td>\n",
       "      <td>released</td>\n",
       "    </tr>\n",
       "    <tr>\n",
       "      <td>4</td>\n",
       "      <td>5</td>\n",
       "      <td>male</td>\n",
       "      <td>1987.0</td>\n",
       "      <td>Korea</td>\n",
       "      <td>capital area</td>\n",
       "      <td>NaN</td>\n",
       "      <td>NaN</td>\n",
       "      <td>visit to Wuhan</td>\n",
       "      <td>1.0</td>\n",
       "      <td>NaN</td>\n",
       "      <td>31.0</td>\n",
       "      <td>2020-01-30</td>\n",
       "      <td>2020-03-02</td>\n",
       "      <td>NaN</td>\n",
       "      <td>released</td>\n",
       "    </tr>\n",
       "  </tbody>\n",
       "</table>\n",
       "</div>"
      ],
      "text/plain": [
       "   patient_id     sex  birth_year country               region  disease group  \\\n",
       "0           1  female      1984.0   China  filtered at airport      NaN   NaN   \n",
       "1           2    male      1964.0   Korea  filtered at airport      NaN   NaN   \n",
       "2           3    male      1966.0   Korea         capital area      NaN   NaN   \n",
       "3           4    male      1964.0   Korea         capital area      NaN   NaN   \n",
       "4           5    male      1987.0   Korea         capital area      NaN   NaN   \n",
       "\n",
       "  infection_reason  infection_order  infected_by  contact_number  \\\n",
       "0   visit to Wuhan              1.0          NaN            45.0   \n",
       "1   visit to Wuhan              1.0          NaN            75.0   \n",
       "2   visit to Wuhan              1.0          NaN            16.0   \n",
       "3   visit to Wuhan              1.0          NaN            95.0   \n",
       "4   visit to Wuhan              1.0          NaN            31.0   \n",
       "\n",
       "  confirmed_date released_date deceased_date     state  \n",
       "0     2020-01-20    2020-02-06           NaN  released  \n",
       "1     2020-01-24    2020-02-05           NaN  released  \n",
       "2     2020-01-26    2020-02-12           NaN  released  \n",
       "3     2020-01-27    2020-02-09           NaN  released  \n",
       "4     2020-01-30    2020-03-02           NaN  released  "
      ]
     },
     "execution_count": 5,
     "metadata": {},
     "output_type": "execute_result"
    }
   ],
   "source": [
    "df_patient.head()"
   ]
  },
  {
   "cell_type": "code",
   "execution_count": 6,
   "metadata": {},
   "outputs": [
    {
     "data": {
      "text/plain": [
       "patient_id             0\n",
       "sex                 7076\n",
       "birth_year          7089\n",
       "country                0\n",
       "region              7318\n",
       "disease             7726\n",
       "group               7668\n",
       "infection_reason    7600\n",
       "infection_order     7718\n",
       "infected_by         7684\n",
       "contact_number      7701\n",
       "confirmed_date         0\n",
       "released_date       7699\n",
       "deceased_date       7718\n",
       "state                  0\n",
       "dtype: int64"
      ]
     },
     "execution_count": 6,
     "metadata": {},
     "output_type": "execute_result"
    }
   ],
   "source": [
    "df_patient.isna().sum()"
   ]
  },
  {
   "cell_type": "markdown",
   "metadata": {},
   "source": [
    "# Feature Engineering"
   ]
  },
  {
   "cell_type": "code",
   "execution_count": 7,
   "metadata": {},
   "outputs": [],
   "source": [
    "df_patient['birth_year'] = df_patient.birth_year.fillna(0.0).astype(int)\n",
    "df_patient['birth_year'] = df_patient['birth_year'].map(lambda val: val if val > 0 else np.nan)\n",
    "df_patient.confirmed_date = pd.to_datetime(df_patient.confirmed_date)\n",
    "daily_count = df_patient.groupby(df_patient.confirmed_date).patient_id.count()\n",
    "accumulated_count = daily_count.cumsum()\n",
    "df_patient['age'] = 2020 - df_patient['birth_year'] "
   ]
  },
  {
   "cell_type": "code",
   "execution_count": 8,
   "metadata": {},
   "outputs": [],
   "source": [
    "def group_age(age):\n",
    "    if age >= 0: # not NaN\n",
    "        if age % 10 != 0:\n",
    "            lower = int(math.floor(age / 10.0)) * 10\n",
    "            upper = int(math.ceil(age / 10.0)) * 10 - 1\n",
    "            return f\"{lower}-{upper}\"\n",
    "        else:\n",
    "            lower = int(age)\n",
    "            upper = int(age + 9) \n",
    "            return f\"{lower}-{upper}\"\n",
    "    return \"Unknown\""
   ]
  },
  {
   "cell_type": "code",
   "execution_count": 9,
   "metadata": {},
   "outputs": [],
   "source": [
    "df_patient[\"age_range\"] = df_patient[\"age\"].apply(group_age)"
   ]
  },
  {
   "cell_type": "code",
   "execution_count": 10,
   "metadata": {},
   "outputs": [],
   "source": [
    "patient=df_patient"
   ]
  },
  {
   "cell_type": "code",
   "execution_count": 11,
   "metadata": {},
   "outputs": [],
   "source": [
    "date_cols = [\"confirmed_date\", \"released_date\", \"deceased_date\"]\n",
    "for col in date_cols:\n",
    "    patient[col] = pd.to_datetime(patient[col])"
   ]
  },
  {
   "cell_type": "code",
   "execution_count": 12,
   "metadata": {},
   "outputs": [],
   "source": [
    "patient[\"time_to_release_since_confirmed\"] = patient[\"released_date\"] - patient[\"confirmed_date\"]\n",
    "patient[\"time_to_death_since_confirmed\"] = patient[\"deceased_date\"] - patient[\"confirmed_date\"]\n",
    "patient[\"duration_since_confirmed\"] = patient[[\"time_to_release_since_confirmed\", \"time_to_death_since_confirmed\"]].min(axis=1)\n",
    "patient[\"duration_days\"] = patient[\"duration_since_confirmed\"].dt.days\n",
    "age_ranges = sorted(set([ar for ar in patient[\"age_range\"] if ar != \"Unknown\"]))\n",
    "patient[\"state_by_gender\"] = patient[\"state\"] + \"_\" + patient[\"sex\"]\n",
    "released = df_patient[df_patient.state == 'released']\n",
    "isolated_state = df_patient[df_patient.state == 'isolated']\n",
    "dead = df_patient[df_patient.state == 'deceased']"
   ]
  },
  {
   "cell_type": "markdown",
   "metadata": {},
   "source": [
    "# Confirmed Cases"
   ]
  },
  {
   "cell_type": "code",
   "execution_count": 13,
   "metadata": {},
   "outputs": [
    {
     "data": {
      "text/plain": [
       "Text(0.5, 1.0, 'Accumulated Confirmed Count')"
      ]
     },
     "execution_count": 13,
     "metadata": {},
     "output_type": "execute_result"
    },
    {
     "data": {
      "image/png": "[encoded data removed]",
      "text/plain": [
       "<Figure size 864x288 with 1 Axes>"
      ]
     },
     "metadata": {
      "needs_background": "light"
     },
     "output_type": "display_data"
    }
   ],
   "source": [
    "plt.figure(figsize=(12,4))\n",
    "accumulated_count.plot()\n",
    "plt.title('Accumulated Confirmed Count')"
   ]
  },
  {
   "cell_type": "code",
   "execution_count": 14,
   "metadata": {},
   "outputs": [
    {
     "name": "stderr",
     "output_type": "stream",
     "text": [
      "D:\\Anaconda\\lib\\site-packages\\pandas\\core\\indexing.py:1418: FutureWarning:\n",
      "\n",
      "\n",
      "Passing list-likes to .loc or [] with any missing label will raise\n",
      "KeyError in the future, you can use .reindex() as an alternative.\n",
      "\n",
      "See the documentation here:\n",
      "https://pandas.pydata.org/pandas-docs/stable/user_guide/indexing.html#deprecate-loc-reindex-listlike\n",
      "\n"
     ]
    },
    {
     "data": {
      "text/html": [
       "<div>\n",
       "<style scoped>\n",
       "    .dataframe tbody tr th:only-of-type {\n",
       "        vertical-align: middle;\n",
       "    }\n",
       "\n",
       "    .dataframe tbody tr th {\n",
       "        vertical-align: top;\n",
       "    }\n",
       "\n",
       "    .dataframe thead th {\n",
       "        text-align: right;\n",
       "    }\n",
       "</style>\n",
       "<table border=\"1\" class=\"dataframe\">\n",
       "  <thead>\n",
       "    <tr style=\"text-align: right;\">\n",
       "      <th></th>\n",
       "      <th>id</th>\n",
       "      <th>latitude</th>\n",
       "      <th>longitude</th>\n",
       "    </tr>\n",
       "  </thead>\n",
       "  <tbody>\n",
       "    <tr>\n",
       "      <td>0</td>\n",
       "      <td>NaN</td>\n",
       "      <td>37.460459</td>\n",
       "      <td>126.440680</td>\n",
       "    </tr>\n",
       "    <tr>\n",
       "      <td>1</td>\n",
       "      <td>NaN</td>\n",
       "      <td>37.478832</td>\n",
       "      <td>126.668558</td>\n",
       "    </tr>\n",
       "    <tr>\n",
       "      <td>2</td>\n",
       "      <td>NaN</td>\n",
       "      <td>37.562143</td>\n",
       "      <td>126.801884</td>\n",
       "    </tr>\n",
       "    <tr>\n",
       "      <td>3</td>\n",
       "      <td>NaN</td>\n",
       "      <td>37.567454</td>\n",
       "      <td>127.005627</td>\n",
       "    </tr>\n",
       "    <tr>\n",
       "      <td>4</td>\n",
       "      <td>NaN</td>\n",
       "      <td>37.460459</td>\n",
       "      <td>126.440680</td>\n",
       "    </tr>\n",
       "    <tr>\n",
       "      <td>5</td>\n",
       "      <td>NaN</td>\n",
       "      <td>37.524978</td>\n",
       "      <td>127.027718</td>\n",
       "    </tr>\n",
       "    <tr>\n",
       "      <td>6</td>\n",
       "      <td>NaN</td>\n",
       "      <td>37.503359</td>\n",
       "      <td>127.049177</td>\n",
       "    </tr>\n",
       "    <tr>\n",
       "      <td>7</td>\n",
       "      <td>NaN</td>\n",
       "      <td>37.524669</td>\n",
       "      <td>127.015911</td>\n",
       "    </tr>\n",
       "    <tr>\n",
       "      <td>8</td>\n",
       "      <td>NaN</td>\n",
       "      <td>37.529200</td>\n",
       "      <td>127.032597</td>\n",
       "    </tr>\n",
       "    <tr>\n",
       "      <td>9</td>\n",
       "      <td>NaN</td>\n",
       "      <td>37.674192</td>\n",
       "      <td>126.776955</td>\n",
       "    </tr>\n",
       "  </tbody>\n",
       "</table>\n",
       "</div>"
      ],
      "text/plain": [
       "   id   latitude   longitude\n",
       "0 NaN  37.460459  126.440680\n",
       "1 NaN  37.478832  126.668558\n",
       "2 NaN  37.562143  126.801884\n",
       "3 NaN  37.567454  127.005627\n",
       "4 NaN  37.460459  126.440680\n",
       "5 NaN  37.524978  127.027718\n",
       "6 NaN  37.503359  127.049177\n",
       "7 NaN  37.524669  127.015911\n",
       "8 NaN  37.529200  127.032597\n",
       "9 NaN  37.674192  126.776955"
      ]
     },
     "execution_count": 14,
     "metadata": {},
     "output_type": "execute_result"
    }
   ],
   "source": [
    "clus=df_route.loc[:,['id','latitude','longitude']]\n",
    "clus.head(10)"
   ]
  },
  {
   "cell_type": "markdown",
   "metadata": {},
   "source": [
    "# Checking number of Cluster"
   ]
  },
  {
   "cell_type": "code",
   "execution_count": 15,
   "metadata": {},
   "outputs": [
    {
     "data": {
      "image/png": "[encoded data removed]",
      "text/plain": [
       "<Figure size 432x288 with 1 Axes>"
      ]
     },
     "metadata": {
      "needs_background": "light"
     },
     "output_type": "display_data"
    }
   ],
   "source": [
    "K_clusters = range(1,8)\n",
    "kmeans = [KMeans(n_clusters=i) for i in K_clusters]\n",
    "Y_axis = df_route[['latitude']]\n",
    "X_axis = df_route[['longitude']]\n",
    "score = [kmeans[i].fit(Y_axis).score(Y_axis) for i in range(len(kmeans))]\n",
    "plt.plot(K_clusters, score)\n",
    "plt.xlabel('Number of Clusters')\n",
    "plt.ylabel('Score')\n",
    "plt.show()"
   ]
  },
  {
   "cell_type": "code",
   "execution_count": 16,
   "metadata": {},
   "outputs": [],
   "source": [
    "kmeans = KMeans(n_clusters = 4, init ='k-means++')\n",
    "kmeans.fit(clus[clus.columns[1:3]])\n",
    "clus['cluster_label'] = kmeans.fit_predict(clus[clus.columns[1:3]])\n",
    "centers = kmeans.cluster_centers_\n",
    "labels = kmeans.predict(clus[clus.columns[1:3]])"
   ]
  },
  {
   "cell_type": "code",
   "execution_count": 17,
   "metadata": {},
   "outputs": [
    {
     "data": {
      "text/plain": [
       "<matplotlib.collections.PathCollection at 0x21698e104c8>"
      ]
     },
     "execution_count": 17,
     "metadata": {},
     "output_type": "execute_result"
    },
    {
     "data": {
      "image/png": "[encoded data removed]",
      "text/plain": [
       "<Figure size 432x288 with 2 Axes>"
      ]
     },
     "metadata": {
      "needs_background": "light"
     },
     "output_type": "display_data"
    }
   ],
   "source": [
    "clus.plot.scatter(x = 'latitude', y = 'longitude', c=labels, s=50, cmap='viridis')\n",
    "plt.scatter(centers[:, 0], centers[:, 1], c='black', s=100, alpha=0.5)"
   ]
  },
  {
   "cell_type": "markdown",
   "metadata": {},
   "source": [
    "# Data Prep for LSTM"
   ]
  },
  {
   "cell_type": "code",
   "execution_count": 18,
   "metadata": {},
   "outputs": [],
   "source": [
    "data = daily_count.resample('D').first().fillna(0).cumsum()\n",
    "data = data[20:]\n",
    "x = np.arange(len(data)).reshape(-1, 1)\n",
    "y = data.values"
   ]
  },
  {
   "cell_type": "code",
   "execution_count": 19,
   "metadata": {},
   "outputs": [
    {
     "data": {
      "text/plain": [
       "(31, 1)"
      ]
     },
     "execution_count": 19,
     "metadata": {},
     "output_type": "execute_result"
    }
   ],
   "source": [
    "x.shape"
   ]
  },
  {
   "cell_type": "markdown",
   "metadata": {},
   "source": [
    "# Regressor Model"
   ]
  },
  {
   "cell_type": "code",
   "execution_count": 20,
   "metadata": {},
   "outputs": [],
   "source": [
    "model = MLPRegressor(hidden_layer_sizes=[32, 32, 10], max_iter=50000, alpha=0.0005, random_state=26)\n",
    "_=model.fit(x, y)"
   ]
  },
  {
   "cell_type": "code",
   "execution_count": null,
   "metadata": {},
   "outputs": [],
   "source": []
  },
  {
   "cell_type": "code",
   "execution_count": 21,
   "metadata": {},
   "outputs": [],
   "source": [
    "test = np.arange(len(data)+7).reshape(-1, 1)\n",
    "pred = model.predict(test)"
   ]
  },
  {
   "cell_type": "code",
   "execution_count": 22,
   "metadata": {},
   "outputs": [],
   "source": [
    "pred = pred.reshape(38,)\n",
    "prediction = pred.round().astype(int)\n",
    "week = [data.index[0] + timedelta(days=i) for i in range(len(prediction))]\n",
    "dt_idx = pd.DatetimeIndex(week)"
   ]
  },
  {
   "cell_type": "code",
   "execution_count": 23,
   "metadata": {},
   "outputs": [],
   "source": [
    "predicted_count = pd.Series(prediction, dt_idx)"
   ]
  },
  {
   "cell_type": "code",
   "execution_count": 24,
   "metadata": {},
   "outputs": [
    {
     "data": {
      "image/png": "[encoded data removed]",
      "text/plain": [
       "<Figure size 432x288 with 1 Axes>"
      ]
     },
     "metadata": {
      "needs_background": "light"
     },
     "output_type": "display_data"
    }
   ],
   "source": [
    "accumulated_count.plot()\n",
    "predicted_count.plot()\n",
    "plt.title('Prediction of Accumulated Confirmed Count')\n",
    "plt.legend(['current confirmd count', 'predicted confirmed count'])\n",
    "plt.show()"
   ]
  },
  {
   "cell_type": "markdown",
   "metadata": {},
   "source": [
    "# LSTM With Tensorflow"
   ]
  },
  {
   "cell_type": "code",
   "execution_count": 25,
   "metadata": {},
   "outputs": [
    {
     "data": {
      "text/html": [
       "<div>\n",
       "<style scoped>\n",
       "    .dataframe tbody tr th:only-of-type {\n",
       "        vertical-align: middle;\n",
       "    }\n",
       "\n",
       "    .dataframe tbody tr th {\n",
       "        vertical-align: top;\n",
       "    }\n",
       "\n",
       "    .dataframe thead th {\n",
       "        text-align: right;\n",
       "    }\n",
       "</style>\n",
       "<table border=\"1\" class=\"dataframe\">\n",
       "  <thead>\n",
       "    <tr style=\"text-align: right;\">\n",
       "      <th></th>\n",
       "      <th>Confirmed</th>\n",
       "    </tr>\n",
       "    <tr>\n",
       "      <th>confirmed_date</th>\n",
       "      <th></th>\n",
       "    </tr>\n",
       "  </thead>\n",
       "  <tbody>\n",
       "    <tr>\n",
       "      <td>2020-02-09</td>\n",
       "      <td>27.0</td>\n",
       "    </tr>\n",
       "    <tr>\n",
       "      <td>2020-02-10</td>\n",
       "      <td>28.0</td>\n",
       "    </tr>\n",
       "    <tr>\n",
       "      <td>2020-02-11</td>\n",
       "      <td>28.0</td>\n",
       "    </tr>\n",
       "    <tr>\n",
       "      <td>2020-02-12</td>\n",
       "      <td>28.0</td>\n",
       "    </tr>\n",
       "    <tr>\n",
       "      <td>2020-02-13</td>\n",
       "      <td>28.0</td>\n",
       "    </tr>\n",
       "  </tbody>\n",
       "</table>\n",
       "</div>"
      ],
      "text/plain": [
       "                Confirmed\n",
       "confirmed_date           \n",
       "2020-02-09           27.0\n",
       "2020-02-10           28.0\n",
       "2020-02-11           28.0\n",
       "2020-02-12           28.0\n",
       "2020-02-13           28.0"
      ]
     },
     "execution_count": 25,
     "metadata": {},
     "output_type": "execute_result"
    }
   ],
   "source": [
    "dataset = pd.DataFrame(data)\n",
    "dataset.columns = ['Confirmed']\n",
    "dataset.head()"
   ]
  },
  {
   "cell_type": "code",
   "execution_count": 26,
   "metadata": {},
   "outputs": [],
   "source": [
    "data = np.array(dataset).reshape(-1, 1)\n",
    "train_data = dataset[:len(dataset)-5]\n",
    "test_data = dataset[len(dataset)-5:]"
   ]
  },
  {
   "cell_type": "code",
   "execution_count": 27,
   "metadata": {},
   "outputs": [],
   "source": [
    "scaler = MinMaxScaler()\n",
    "scaler.fit(train_data)\n",
    "scaled_train_data = scaler.transform(train_data)\n",
    "scaled_test_data = scaler.transform(test_data)\n",
    "n_input =5\n",
    "n_features =1"
   ]
  },
  {
   "cell_type": "code",
   "execution_count": 28,
   "metadata": {},
   "outputs": [],
   "source": [
    "generator = TimeseriesGenerator(scaled_train_data,scaled_train_data, length=n_input, batch_size=1)"
   ]
  },
  {
   "cell_type": "code",
   "execution_count": 29,
   "metadata": {},
   "outputs": [
    {
     "name": "stdout",
     "output_type": "stream",
     "text": [
      "Train for 21 steps\n",
      "Epoch 1/30\n",
      "21/21 [==============================] - 15s 712ms/step - loss: 0.1549\n",
      "Epoch 2/30\n",
      "21/21 [==============================] - 0s 23ms/step - loss: 0.0800\n",
      "Epoch 3/30\n",
      "21/21 [==============================] - 1s 24ms/step - loss: 0.0522\n",
      "Epoch 4/30\n",
      "21/21 [==============================] - 1s 27ms/step - loss: 0.0294: 0s - loss:\n",
      "Epoch 5/30\n",
      "21/21 [==============================] - 0s 23ms/step - loss: 0.0320\n",
      "Epoch 6/30\n",
      "21/21 [==============================] - 0s 23ms/step - loss: 0.0408\n",
      "Epoch 7/30\n",
      "21/21 [==============================] - 0s 23ms/step - loss: 0.0254\n",
      "Epoch 8/30\n",
      "21/21 [==============================] - ETA: 0s - loss: 0.022 - 0s 23ms/step - loss: 0.0210\n",
      "Epoch 9/30\n",
      "21/21 [==============================] - 0s 23ms/step - loss: 0.0192\n",
      "Epoch 10/30\n",
      "21/21 [==============================] - 0s 22ms/step - loss: 0.0169\n",
      "Epoch 11/30\n",
      "21/21 [==============================] - 0s 24ms/step - loss: 0.0174\n",
      "Epoch 12/30\n",
      "21/21 [==============================] - 0s 23ms/step - loss: 0.0148\n",
      "Epoch 13/30\n",
      "21/21 [==============================] - 0s 23ms/step - loss: 0.0089\n",
      "Epoch 14/30\n",
      "21/21 [==============================] - 1s 25ms/step - loss: 0.0175\n",
      "Epoch 15/30\n",
      "21/21 [==============================] - 1s 25ms/step - loss: 0.0151\n",
      "Epoch 16/30\n",
      "21/21 [==============================] - 1s 26ms/step - loss: 0.0190TA: 0s - loss: 0.\n",
      "Epoch 17/30\n",
      "21/21 [==============================] - 1s 30ms/step - loss: 0.0136\n",
      "Epoch 18/30\n",
      "21/21 [==============================] - 1s 29ms/step - loss: 0.0125\n",
      "Epoch 19/30\n",
      "21/21 [==============================] - 1s 26ms/step - loss: 0.0095\n",
      "Epoch 20/30\n",
      "21/21 [==============================] - 1s 25ms/step - loss: 0.0052\n",
      "Epoch 21/30\n",
      "21/21 [==============================] - 1s 25ms/step - loss: 0.0071\n",
      "Epoch 22/30\n",
      "21/21 [==============================] - 1s 25ms/step - loss: 0.0120\n",
      "Epoch 23/30\n",
      "21/21 [==============================] - 1s 26ms/step - loss: 0.0114\n",
      "Epoch 24/30\n",
      "21/21 [==============================] - 1s 25ms/step - loss: 0.0061\n",
      "Epoch 25/30\n",
      "21/21 [==============================] - 0s 22ms/step - loss: 0.0066\n",
      "Epoch 26/30\n",
      "21/21 [==============================] - 0s 23ms/step - loss: 0.0052\n",
      "Epoch 27/30\n",
      "21/21 [==============================] - 0s 23ms/step - loss: 0.0090\n",
      "Epoch 28/30\n",
      "21/21 [==============================] - 1s 27ms/step - loss: 0.0039 ETA: 0s - loss: 8.0\n",
      "Epoch 29/30\n",
      "21/21 [==============================] - 1s 24ms/step - loss: 0.0087: 0s - loss: 0.007\n",
      "Epoch 30/30\n",
      "21/21 [==============================] - 1s 25ms/step - loss: 0.0067\n"
     ]
    },
    {
     "data": {
      "text/plain": [
       "<tensorflow.python.keras.callbacks.History at 0x2169b7445c8>"
      ]
     },
     "execution_count": 29,
     "metadata": {},
     "output_type": "execute_result"
    }
   ],
   "source": [
    "lstm_model = Sequential()\n",
    "lstm_model.add(LSTM(units = 50, return_sequences = True, input_shape = (n_input, n_features)))\n",
    "lstm_model.add(Dropout(0.2))\n",
    "lstm_model.add(LSTM(units = 50, return_sequences = True))\n",
    "lstm_model.add(Dropout(0.2))\n",
    "lstm_model.add(LSTM(units = 50))\n",
    "lstm_model.add(Dropout(0.2))\n",
    "lstm_model.add(Dense(units = 1))\n",
    "lstm_model.compile(optimizer = 'adam', loss = 'mean_squared_error')\n",
    "lstm_model.fit(generator, epochs = 30)"
   ]
  },
  {
   "cell_type": "code",
   "execution_count": 30,
   "metadata": {},
   "outputs": [
    {
     "data": {
      "text/plain": [
       "[<matplotlib.lines.Line2D at 0x2169942b508>]"
      ]
     },
     "execution_count": 30,
     "metadata": {},
     "output_type": "execute_result"
    },
    {
     "data": {
      "image/png": "[encoded data removed]",
      "text/plain": [
       "<Figure size 2160x288 with 1 Axes>"
      ]
     },
     "metadata": {
      "needs_background": "light"
     },
     "output_type": "display_data"
    }
   ],
   "source": [
    "losses_lstm = lstm_model.history.history['loss']\n",
    "plt.figure(figsize = (30,4))\n",
    "plt.xlabel('Epochs')\n",
    "plt.ylabel('Loss')\n",
    "plt.xticks(np.arange(0,100,1))\n",
    "plt.plot(range(len(losses_lstm)), losses_lstm)"
   ]
  },
  {
   "cell_type": "code",
   "execution_count": 31,
   "metadata": {},
   "outputs": [],
   "source": [
    "lstm_predictions_scaled = []\n",
    "\n",
    "batch = scaled_train_data[-n_input:]\n",
    "current_batch = batch.reshape((1, n_input, n_features))\n",
    "\n",
    "for i in range(len(test_data)):   \n",
    "    lstm_pred = lstm_model.predict(current_batch)[0]\n",
    "    lstm_predictions_scaled.append(lstm_pred) \n",
    "    current_batch = np.append(current_batch[:,1:,:],[[lstm_pred]],axis=1)"
   ]
  },
  {
   "cell_type": "code",
   "execution_count": 32,
   "metadata": {},
   "outputs": [
    {
     "data": {
      "text/html": [
       "<div>\n",
       "<style scoped>\n",
       "    .dataframe tbody tr th:only-of-type {\n",
       "        vertical-align: middle;\n",
       "    }\n",
       "\n",
       "    .dataframe tbody tr th {\n",
       "        vertical-align: top;\n",
       "    }\n",
       "\n",
       "    .dataframe thead th {\n",
       "        text-align: right;\n",
       "    }\n",
       "</style>\n",
       "<table border=\"1\" class=\"dataframe\">\n",
       "  <thead>\n",
       "    <tr style=\"text-align: right;\">\n",
       "      <th></th>\n",
       "      <th>0</th>\n",
       "    </tr>\n",
       "  </thead>\n",
       "  <tbody>\n",
       "    <tr>\n",
       "      <td>0</td>\n",
       "      <td>6883.454910</td>\n",
       "    </tr>\n",
       "    <tr>\n",
       "      <td>1</td>\n",
       "      <td>7085.078455</td>\n",
       "    </tr>\n",
       "    <tr>\n",
       "      <td>2</td>\n",
       "      <td>7237.630861</td>\n",
       "    </tr>\n",
       "    <tr>\n",
       "      <td>3</td>\n",
       "      <td>7360.536541</td>\n",
       "    </tr>\n",
       "    <tr>\n",
       "      <td>4</td>\n",
       "      <td>7467.989798</td>\n",
       "    </tr>\n",
       "  </tbody>\n",
       "</table>\n",
       "</div>"
      ],
      "text/plain": [
       "             0\n",
       "0  6883.454910\n",
       "1  7085.078455\n",
       "2  7237.630861\n",
       "3  7360.536541\n",
       "4  7467.989798"
      ]
     },
     "execution_count": 32,
     "metadata": {},
     "output_type": "execute_result"
    }
   ],
   "source": [
    "prediction = pd.DataFrame(scaler.inverse_transform(lstm_predictions_scaled))\n",
    "prediction.head()"
   ]
  },
  {
   "cell_type": "code",
   "execution_count": 33,
   "metadata": {},
   "outputs": [
    {
     "data": {
      "text/plain": [
       "[<matplotlib.lines.Line2D at 0x216aff5bc48>]"
      ]
     },
     "execution_count": 33,
     "metadata": {},
     "output_type": "execute_result"
    },
    {
     "data": {
      "image/png": "[encoded data removed]",
      "text/plain": [
       "<Figure size 432x288 with 1 Axes>"
      ]
     },
     "metadata": {
      "needs_background": "light"
     },
     "output_type": "display_data"
    }
   ],
   "source": [
    "plt.plot(prediction)"
   ]
  },
  {
   "cell_type": "code",
   "execution_count": null,
   "metadata": {},
   "outputs": [],
   "source": []
  }
 ],
 "metadata": {
  "kernelspec": {
   "display_name": "Python 3",
   "language": "python",
   "name": "python3"
  },
  "language_info": {
   "codemirror_mode": {
    "name": "ipython",
    "version": 3
   },
   "file_extension": ".py",
   "mimetype": "text/x-python",
   "name": "python",
   "nbconvert_exporter": "python",
   "pygments_lexer": "ipython3",
   "version": "3.7.4"
  }
 },
 "nbformat": 4,
 "nbformat_minor": 2
}
